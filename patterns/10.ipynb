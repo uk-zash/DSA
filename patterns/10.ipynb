{
 "cells": [
  {
   "cell_type": "code",
   "execution_count": 1,
   "metadata": {},
   "outputs": [
    {
     "name": "stdout",
     "output_type": "stream",
     "text": [
      "1         1 \n",
      "1 2     2 1 \n",
      "1 2 3 3 2 1 \n"
     ]
    }
   ],
   "source": [
    "n = int(input(\"Enter the number of rows: \"))\n",
    "for i in range(1, n + 1):\n",
    "        # Print increasing sequence\n",
    "        for j in range(1, i + 1):\n",
    "            print(j, end=\" \")\n",
    "\n",
    "        # Print spaces\n",
    "        for _ in range(2 * (n - i)):\n",
    "            print(\" \", end=\" \")\n",
    "\n",
    "        # Print decreasing sequence\n",
    "        for k in range(i, 0, -1):\n",
    "        \n",
    "            print(k, end=\" \")\n",
    "\n",
    "        print()\n"
   ]
  },
  {
   "cell_type": "code",
   "execution_count": null,
   "metadata": {},
   "outputs": [],
   "source": []
  }
 ],
 "metadata": {
  "kernelspec": {
   "display_name": "Python 3",
   "language": "python",
   "name": "python3"
  },
  "language_info": {
   "codemirror_mode": {
    "name": "ipython",
    "version": 3
   },
   "file_extension": ".py",
   "mimetype": "text/x-python",
   "name": "python",
   "nbconvert_exporter": "python",
   "pygments_lexer": "ipython3",
   "version": "3.11.9"
  }
 },
 "nbformat": 4,
 "nbformat_minor": 2
}

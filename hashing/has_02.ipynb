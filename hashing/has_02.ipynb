{
 "cells": [
  {
   "cell_type": "markdown",
   "metadata": {},
   "source": [
    "## Problem statement\n",
    "Given an array 'v' of 'n' numbers.\n",
    "\n",
    "\n",
    "\n",
    "Your task is to find and return the highest and lowest frequency elements.\n",
    "\n",
    "\n",
    "If there are multiple elements that have the highest frequency or lowest frequency, pick the smallest element.\n",
    "\n",
    "\n",
    "\n",
    "Example:\n",
    "Input: ‘n' = 6, 'v' = [1, 2, 3, 1, 1, 4]\n",
    "\n",
    "Output: 1 2\n",
    "\n",
    "Explanation: The element having the highest frequency is '1', and the frequency is 3. The elements with the lowest frequencies are '2', '3', and '4'. Since we need to pick the smallest element, we pick '2'. Hence we return [1, 2]."
   ]
  },
  {
   "cell_type": "code",
   "execution_count": 19,
   "metadata": {},
   "outputs": [
    {
     "name": "stdout",
     "output_type": "stream",
     "text": [
      "[1, 2, 3, 1, 1, 4]\n"
     ]
    }
   ],
   "source": [
    "n = int(input(\"Enter the size of the array\"))\n",
    "arr = [0] * n\n",
    "for i in range(n):\n",
    "    arr[i]=int(input(\"Enter element for index \"+str(i)))\n",
    "\n",
    "print(arr)\n",
    "\n"
   ]
  },
  {
   "cell_type": "code",
   "execution_count": 20,
   "metadata": {},
   "outputs": [],
   "source": [
    "def find_max_min(arr):\n",
    "\n",
    "    dump={}\n",
    "\n",
    "    for i in arr:\n",
    "        if i in dump:\n",
    "            dump[i]+=1\n",
    "\n",
    "        else:\n",
    "            dump[i] = 1\n",
    "    \n",
    "    max_val = max(dump.values())\n",
    "    min_val = min(dump.values())\n",
    "\n",
    "    max_ = []\n",
    "    for key , val in dump.items():\n",
    "\n",
    "        if val == max_val:\n",
    "            max_.append(key)\n",
    "        \n",
    "    min_= []\n",
    "    for key, val in dump.items():\n",
    "        if val==min_val:\n",
    "            min_.append(key)\n",
    "    \n",
    "    return min(max_) , min(min_)"
   ]
  },
  {
   "cell_type": "code",
   "execution_count": 21,
   "metadata": {},
   "outputs": [
    {
     "name": "stdout",
     "output_type": "stream",
     "text": [
      "(1, 2)\n"
     ]
    }
   ],
   "source": [
    "res = find_max_min(arr)\n",
    "print(res)"
   ]
  },
  {
   "cell_type": "code",
   "execution_count": null,
   "metadata": {},
   "outputs": [],
   "source": []
  }
 ],
 "metadata": {
  "kernelspec": {
   "display_name": "Python 3",
   "language": "python",
   "name": "python3"
  },
  "language_info": {
   "codemirror_mode": {
    "name": "ipython",
    "version": 3
   },
   "file_extension": ".py",
   "mimetype": "text/x-python",
   "name": "python",
   "nbconvert_exporter": "python",
   "pygments_lexer": "ipython3",
   "version": "3.11.9"
  }
 },
 "nbformat": 4,
 "nbformat_minor": 2
}

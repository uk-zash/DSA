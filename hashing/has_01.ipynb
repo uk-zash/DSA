{
 "cells": [
  {
   "cell_type": "markdown",
   "metadata": {},
   "source": [
    "# Find the frequenccy of the number in the array\n"
   ]
  },
  {
   "cell_type": "code",
   "execution_count": 20,
   "metadata": {},
   "outputs": [
    {
     "name": "stdout",
     "output_type": "stream",
     "text": [
      "[1, 3, 2, 5, 2]\n"
     ]
    }
   ],
   "source": [
    "n = int(input(\"Enter the size of the array : \"))\n",
    "arr = []\n",
    "for i in range(n):\n",
    "    arr.append(int(input(\"Enter element for index %d:\"%i)))\n",
    "print(arr)"
   ]
  },
  {
   "cell_type": "code",
   "execution_count": 21,
   "metadata": {},
   "outputs": [],
   "source": [
    "def freq(arr):\n",
    "    max_num = max(arr) +1\n",
    "    res = [0] * max_num\n",
    "    for num in  arr:\n",
    "        res[num] +=1\n",
    "    return res[1:]\n",
    "\n"
   ]
  },
  {
   "cell_type": "code",
   "execution_count": 22,
   "metadata": {},
   "outputs": [
    {
     "name": "stdout",
     "output_type": "stream",
     "text": [
      "[1, 2, 1, 0, 1]\n"
     ]
    }
   ],
   "source": [
    "\n",
    "result = (freq(arr))\n",
    "print(result)\n"
   ]
  }
 ],
 "metadata": {
  "kernelspec": {
   "display_name": "Python 3",
   "language": "python",
   "name": "python3"
  },
  "language_info": {
   "codemirror_mode": {
    "name": "ipython",
    "version": 3
   },
   "file_extension": ".py",
   "mimetype": "text/x-python",
   "name": "python",
   "nbconvert_exporter": "python",
   "pygments_lexer": "ipython3",
   "version": "3.11.9"
  }
 },
 "nbformat": 4,
 "nbformat_minor": 2
}
